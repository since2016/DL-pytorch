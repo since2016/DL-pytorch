{
 "cells": [
  {
   "cell_type": "code",
   "execution_count": 12,
   "metadata": {
    "collapsed": true,
    "pycharm": {
     "is_executing": false,
     "name": "#%%\n"
    }
   },
   "outputs": [
    {
     "name": "stdout",
     "text": [
      "<class 'torchvision.datasets.mnist.FashionMNIST'>\n60000 10000\n"
     ],
     "output_type": "stream"
    }
   ],
   "source": [
    "# 导入包和模块\n",
    "import torch as t\n",
    "import torchvision \n",
    "import torchvision.transforms as transforms\n",
    "import numpy as np\n",
    "import matplotlib.pyplot as plt\n",
    "import time \n",
    "import sys\n",
    "from d2lzh_pytorch import *\n",
    "\n",
    "# 载入FashionMNIST数据集\n",
    "mnist_train = torchvision.datasets.FashionMNIST(root='~/Datasets/MNIST', train=True,\n",
    "                                                download=False, transform=transforms.ToTensor())\n",
    "mnist_test = torchvision.datasets.FashionMNIST(root='~/Datasets/MNIST', train=False,\n",
    "                                               download=False, transform=transforms.ToTensor())\n",
    "print(type(mnist_train))\n",
    "print(len(mnist_train), len(mnist_test))\n"
   ]
  },
  {
   "cell_type": "code",
   "execution_count": 6,
   "outputs": [],
   "source": [
    "\n",
    "# feature, label = mnist_train[0]\n",
    "# print(feature.shape, label)\n",
    "# \n",
    "# X,y = [], []\n",
    "# for i in range(10):\n",
    "#     X.append(mnist_train[i][0])\n",
    "#     y.append(mnist_train[i][1])\n",
    "#     print(y)\n",
    "#     # print(get_fashion_mnist_labels(y))\n",
    "# show_fashion_mnist(X, get_fashion_mnist_labels(y))\n"
   ],
   "metadata": {
    "collapsed": false,
    "pycharm": {
     "name": "#%%\n",
     "is_executing": false
    }
   }
  },
  {
   "cell_type": "code",
   "execution_count": 7,
   "outputs": [],
   "source": [
    "# 读取小批量\n",
    "\n",
    "batch_size = 256\n",
    "if sys.platform.startswith('win'):\n",
    "    num_worker = 0\n",
    "else:\n",
    "    num_worker = 4\n",
    "    \n",
    "train_iter = t.utils.data.DataLoader(mnist_train, batch_size=batch_size, shuffle=True,\n",
    "                                     num_workers=num_worker)\n",
    "test_iter = t.utils.data.DataLoader(mnist_test, batch_size=batch_size, shuffle=False,\n",
    "                                    num_workers = num_worker)\n",
    "\n",
    "# start =time.time()\n",
    "# for X,y in train_iter:\n",
    "#     continue\n",
    "# print(\"%.2f sec\" %(time.time()-start))\n"
   ],
   "metadata": {
    "collapsed": false,
    "pycharm": {
     "name": "#%%\n",
     "is_executing": false
    }
   }
  },
  {
   "cell_type": "code",
   "execution_count": 13,
   "outputs": [
    {
     "name": "stdout",
     "text": [
      "epoch 5, loss 0.4851, train acc 0.837, test acc 0.827\n"
     ],
     "output_type": "stream"
    }
   ],
   "source": [
    "#初始化 模型参数\n",
    "num_inputs = 784\n",
    "num_outputs = 10\n",
    "W = t.tensor(np.random.normal(0, 0.01, (num_inputs, num_outputs)),\n",
    "             dtype=t.float,requires_grad=True)\n",
    "b = t.zeros(num_outputs, dtype=t.float, requires_grad=True)\n",
    "\n",
    "# 实现softmax运算\n",
    "def softmax(X):\n",
    "    X_exp = X.exp();\n",
    "    partition = X_exp.sum(dim=1, keepdim=True)\n",
    "    return X_exp/partition\n",
    "\n",
    "# 定义模型\n",
    "def net(X):\n",
    "    return softmax(t.mm(X.view((-1, num_inputs)), W)+b)\n",
    "\n",
    "# loss\n",
    "\n",
    "# y_hat = t.tensor([[0.1, 0.3, 0.6], [0.3, 0.2, 0.5]])\n",
    "# y = t.LongTensor([0, 2])\n",
    "# # y_hat.gather(1, y.view(-1, 1))\n",
    "# print(y_hat.gather(1, y.view(-1, 1)))\n",
    "\n",
    "\n",
    "def cross_entropy(y_hat, y):\n",
    "    return -t.log(y_hat.gather(1, y.view(-1,1)))\n",
    "\n",
    "\n",
    "def accuracy(y_hat, y):\n",
    "    return (y_hat.argmax(dim=1) == y).float().mean().item()\n",
    "\n",
    "\n",
    "def evaluate_accuracy(data_iter, net):\n",
    "    acc_sum, n = 0.0, 0\n",
    "    for X, y in data_iter:\n",
    "        acc_sum += (net(X).argmax(dim=1) == y).float().sum().item()\n",
    "        n+=y.shape[0]\n",
    "        \n",
    "    return acc_sum/n\n",
    "\n",
    "num_epochs, lr = 5, 0.1\n",
    "\n",
    "def train_ch3(net, train_iter, test_iter, loss, num_epochs, batch_size,\n",
    "              params=None, lr=None, optimizer=None):\n",
    "    for epoch in range(num_epochs):\n",
    "        train_l_sum, train_acc_sum, n = 0.0, 0.0, 0\n",
    "        for X ,y in train_iter:\n",
    "            y_hat = net(X)\n",
    "            l = loss(y_hat, y).sum()\n",
    "            \n",
    "            # 梯度清零\n",
    "            if optimizer is not None:\n",
    "                optimizer.zero_grad()\n",
    "            elif params is not None and params[0].grad is not None:\n",
    "                for param in params:\n",
    "                    param.grad.data.zero_()\n",
    "                    \n",
    "            l.backward()\n",
    "            if optimizer is None:\n",
    "                sgd(params, lr, batch_size)\n",
    "            else:\n",
    "                optimizer.step()\n",
    "                \n",
    "            train_l_sum += l.item()\n",
    "            train_acc_sum += (y_hat.argmax(dim=1) ==y).sum().item()\n",
    "            n+=y.shape[0]\n",
    "            \n",
    "        test_acc = evaluate_accuracy(test_iter, net)\n",
    "        print('epoch %d, loss %.4f, train acc %.3f, test acc %.3f' %(epoch+1, train_l_sum/n, train_acc_sum/n, test_acc))\n",
    "        \n",
    "train_ch3(net, train_iter, test_iter, cross_entropy, num_epochs, batch_size, [W,b], lr)\n",
    "\n",
    "            \n",
    "            "
   ],
   "metadata": {
    "collapsed": false,
    "pycharm": {
     "name": "#%%\n",
     "is_executing": false
    }
   }
  }
 ],
 "metadata": {
  "language_info": {
   "codemirror_mode": {
    "name": "ipython",
    "version": 2
   },
   "file_extension": ".py",
   "mimetype": "text/x-python",
   "name": "python",
   "nbconvert_exporter": "python",
   "pygments_lexer": "ipython2",
   "version": "2.7.6"
  },
  "kernelspec": {
   "name": "python3",
   "language": "python",
   "display_name": "Python 3"
  },
  "pycharm": {
   "stem_cell": {
    "cell_type": "raw",
    "source": [],
    "metadata": {
     "collapsed": false
    }
   }
  }
 },
 "nbformat": 4,
 "nbformat_minor": 0
}