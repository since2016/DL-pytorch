{
 "cells": [
  {
   "cell_type": "code",
   "execution_count": 1,
   "metadata": {
    "collapsed": true,
    "pycharm": {
     "is_executing": false
    }
   },
   "outputs": [
    {
     "name": "stdout",
     "text": [
      "tensor([[-0.4236, -0.8784],\n        [ 0.9715, -0.5210],\n        [ 0.5580,  1.2805],\n        [ 2.2667,  1.0517],\n        [-0.2790,  0.3837],\n        [ 1.6711, -2.2000],\n        [-0.1990, -0.0023],\n        [-0.1184,  0.7691],\n        [ 1.3348, -1.6525],\n        [ 0.7780, -0.2597]]) tensor([ 6.3564,  7.9196,  0.9586,  5.1599,  2.3379, 15.0358,  3.8005,  1.3427,\n        12.4873,  6.6189])\n"
     ],
     "output_type": "stream"
    }
   ],
   "source": [
    "import torch as t\n",
    "import numpy as np\n",
    "\n",
    "# 生成数据集\n",
    "num_inputs = 2\n",
    "num_examples = 1000\n",
    "true_w = [2, -3.4]\n",
    "true_b = 4.2\n",
    "features = t.tensor(np.random.normal(0, 1, (num_examples, num_inputs)), dtype=t.float)\n",
    "labels = true_w[0]*features[:, 0]+true_w[1]*features[:, 1]+true_b\n",
    "labels += t.tensor(np.random.normal(0, 0.01, size=labels.size()), dtype=t.float)\n",
    "\n",
    "# 读取数据\n",
    "import torch.utils.data as Data\n",
    "batch_size = 10\n",
    "# 将数据集的特征和标签组合\n",
    "dataset = Data.TensorDataset(features, labels)\n",
    "data_iter = Data.DataLoader(dataset, batch_size, shuffle=True)\n",
    "\n",
    "for X, y in data_iter:\n",
    "    print(X, y)\n",
    "    break\n",
    "    "
   ]
  },
  {
   "cell_type": "code",
   "execution_count": 3,
   "outputs": [
    {
     "name": "stdout",
     "text": [
      "LinearNet(\n  (linear): Linear(in_features=2, out_features=1, bias=True)\n)\nSequential(\n  (linear): Linear(in_features=2, out_features=1, bias=True)\n)\nLinear(in_features=2, out_features=1, bias=True)\n"
     ],
     "output_type": "stream"
    }
   ],
   "source": [
    "#定义模型\n",
    "import torch.nn as nn\n",
    "\n",
    "class LinearNet(nn.Module):\n",
    "    def __init__(self, n_feature):\n",
    "        super(LinearNet, self).__init__()\n",
    "        self.linear = nn.Linear(n_feature, 1)\n",
    "        \n",
    "    def forward(self, x):\n",
    "        y = self.linear(x)\n",
    "        return y\n",
    "    \n",
    "net = LinearNet(num_inputs)\n",
    "print(net)\n",
    "\n",
    "# 事实上可以使用sequential 来搭建网络\n",
    "# 写法1\n",
    "net = nn.Sequential(\n",
    "    nn.Linear(num_inputs, 1)\n",
    "    #此处可以添加层\n",
    ")\n",
    "\n",
    "# 写法2\n",
    "net = nn.Sequential()\n",
    "net.add_module('linear', nn.Linear(num_inputs, 1))\n",
    "\n",
    "#写法3\n",
    "from collections import OrderedDict\n",
    "net = nn.Sequential(OrderedDict(\n",
    "    [\n",
    "        ('linear', nn.Linear(num_inputs, 1))\n",
    "    ]\n",
    "))\n",
    "\n",
    "print(net)\n",
    "print(net[0])\n"
   ],
   "metadata": {
    "collapsed": false,
    "pycharm": {
     "name": "#%%\n",
     "is_executing": false
    }
   }
  },
  {
   "cell_type": "code",
   "execution_count": 5,
   "outputs": [
    {
     "name": "stdout",
     "text": [
      "Parameter containing:\ntensor([[ 0.5130, -0.5863]], requires_grad=True)\nParameter containing:\ntensor([-0.6543], requires_grad=True)\n"
     ],
     "output_type": "stream"
    }
   ],
   "source": [
    "# 查看可以学习的参数\n",
    "for param in net.parameters():\n",
    "    print(param)\n",
    "    \n",
    "# 初始化参数\n",
    "from torch.nn import init\n",
    "init.normal_(net[0].weight, mean=0, std=0.01)\n",
    "init.normal_(net[0].bias, val=0)\n",
    "\n"
   ],
   "metadata": {
    "collapsed": false,
    "pycharm": {
     "name": "#%%\n",
     "is_executing": false
    }
   }
  },
  {
   "cell_type": "code",
   "execution_count": 6,
   "outputs": [
    {
     "name": "stdout",
     "text": [
      "SGD (\nParameter Group 0\n    dampening: 0\n    lr: 0.03\n    momentum: 0\n    nesterov: False\n    weight_decay: 0\n)\n"
     ],
     "output_type": "stream"
    }
   ],
   "source": [
    "#定义损失函数\n",
    "loss = nn.MSELoss()\n",
    "# 定义优化函数\n",
    "import torch.optim as optim\n",
    "\n",
    "optimzer = optim.SGD(net.parameters(), lr=0.03)\n",
    "print(optimzer)\n"
   ],
   "metadata": {
    "collapsed": false,
    "pycharm": {
     "name": "#%%\n",
     "is_executing": false
    }
   }
  },
  {
   "cell_type": "code",
   "execution_count": 8,
   "outputs": [
    {
     "name": "stdout",
     "text": [
      "epoch 1, loss : 0.000184\nepoch 2, loss : 0.000031\nepoch 3, loss : 0.000047\n[2, -3.4] Parameter containing:\ntensor([[ 2.0002, -3.3995]], requires_grad=True)\n4.2 Parameter containing:\ntensor([4.1997], requires_grad=True)\n"
     ],
     "output_type": "stream"
    }
   ],
   "source": [
    "#训练模型\n",
    "num_epochs = 3\n",
    "for epoch in range(1, num_epochs+1):\n",
    "    for X, y in data_iter:\n",
    "        output = net(X)\n",
    "        l = loss(output, y.view(-1, 1))\n",
    "        optimzer.zero_grad()\n",
    "        l.backward()\n",
    "        optimzer.step()\n",
    "        \n",
    "    print(\"epoch %d, loss : %f\" %(epoch, l.item()))\n",
    "    \n",
    "dense = net[0]\n",
    "print(true_w, dense.weight)\n",
    "print(true_b, dense.bias)\n"
   ],
   "metadata": {
    "collapsed": false,
    "pycharm": {
     "name": "#%%\n",
     "is_executing": false
    }
   }
  }
 ],
 "metadata": {
  "language_info": {
   "codemirror_mode": {
    "name": "ipython",
    "version": 2
   },
   "file_extension": ".py",
   "mimetype": "text/x-python",
   "name": "python",
   "nbconvert_exporter": "python",
   "pygments_lexer": "ipython2",
   "version": "2.7.6"
  },
  "kernelspec": {
   "name": "python3",
   "language": "python",
   "display_name": "Python 3"
  },
  "pycharm": {
   "stem_cell": {
    "cell_type": "raw",
    "source": [],
    "metadata": {
     "collapsed": false
    }
   }
  }
 },
 "nbformat": 4,
 "nbformat_minor": 0
}